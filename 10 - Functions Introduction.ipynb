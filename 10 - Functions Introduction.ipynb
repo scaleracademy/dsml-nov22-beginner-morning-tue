{
 "cells": [
  {
   "cell_type": "code",
   "execution_count": 1,
   "id": "c9480f1f",
   "metadata": {},
   "outputs": [
    {
     "name": "stdout",
     "output_type": "stream",
     "text": [
      "Dust all the rooms!\n",
      "Arrange the living area!\n",
      "Go and get cold drinks and mixtures from grocery shop!\n",
      "Turn on the fancy lights!\n",
      "Take out the fancy dinner set!\n",
      "Touch feet when you see them!\n"
     ]
    }
   ],
   "source": [
    "print(\"Dust all the rooms!\")\n",
    "print(\"Arrange the living area!\")\n",
    "print(\"Go and get cold drinks and mixtures from grocery shop!\")\n",
    "print(\"Turn on the fancy lights!\")\n",
    "print(\"Take out the fancy dinner set!\")\n",
    "print(\"Touch feet when you see them!\")"
   ]
  },
  {
   "cell_type": "code",
   "execution_count": 2,
   "id": "3abe3b22",
   "metadata": {},
   "outputs": [
    {
     "name": "stdout",
     "output_type": "stream",
     "text": [
      "Dust all the rooms!\n",
      "Arrange the living area!\n",
      "Go and get cold drinks and mixtures from grocery shop!\n",
      "Turn on the fancy lights!\n",
      "Take out the fancy dinner set!\n",
      "Touch feet when you see them!\n"
     ]
    }
   ],
   "source": [
    "print(\"Dust all the rooms!\")\n",
    "print(\"Arrange the living area!\")\n",
    "print(\"Go and get cold drinks and mixtures from grocery shop!\")\n",
    "print(\"Turn on the fancy lights!\")\n",
    "print(\"Take out the fancy dinner set!\")\n",
    "print(\"Touch feet when you see them!\")"
   ]
  },
  {
   "cell_type": "code",
   "execution_count": 3,
   "id": "1172653b",
   "metadata": {},
   "outputs": [
    {
     "name": "stdout",
     "output_type": "stream",
     "text": [
      "Dust all the rooms!\n",
      "Arrange the living area!\n",
      "Go and get cold drinks and mixtures from grocery shop!\n",
      "Turn on the fancy lights!\n",
      "Take out the fancy dinner set!\n",
      "Touch feet when you see them!\n"
     ]
    }
   ],
   "source": [
    "print(\"Dust all the rooms!\")\n",
    "print(\"Arrange the living area!\")\n",
    "print(\"Go and get cold drinks and mixtures from grocery shop!\")\n",
    "print(\"Turn on the fancy lights!\")\n",
    "print(\"Take out the fancy dinner set!\")\n",
    "print(\"Touch feet when you see them!\")"
   ]
  },
  {
   "cell_type": "code",
   "execution_count": 6,
   "id": "ded144db",
   "metadata": {},
   "outputs": [],
   "source": [
    "# let's write a function for it\n",
    "# def -> keyword\n",
    "\n",
    "def prepare_for_guests():\n",
    "    print(\"Dust all the rooms!\")\n",
    "    print(\"Arrange the living area!\")\n",
    "    print(\"Go and get cold drinks and mixtures from grocery shop!\")\n",
    "    print(\"Turn on the fancy lights!\")\n",
    "    print(\"Take out the fancy dinner set!\")\n",
    "    print(\"Touch feet when you see them!\")"
   ]
  },
  {
   "cell_type": "code",
   "execution_count": 7,
   "id": "7f79cae4",
   "metadata": {},
   "outputs": [
    {
     "name": "stdout",
     "output_type": "stream",
     "text": [
      "Dust all the rooms!\n",
      "Arrange the living area!\n",
      "Go and get cold drinks and mixtures from grocery shop!\n",
      "Turn on the fancy lights!\n",
      "Take out the fancy dinner set!\n",
      "Touch feet when you see them!\n"
     ]
    }
   ],
   "source": [
    "prepare_for_guests()"
   ]
  },
  {
   "cell_type": "code",
   "execution_count": 8,
   "id": "1589066d",
   "metadata": {},
   "outputs": [
    {
     "name": "stdout",
     "output_type": "stream",
     "text": [
      "Dust all the rooms!\n",
      "Arrange the living area!\n",
      "Go and get cold drinks and mixtures from grocery shop!\n",
      "Turn on the fancy lights!\n",
      "Take out the fancy dinner set!\n",
      "Touch feet when you see them!\n"
     ]
    }
   ],
   "source": [
    "prepare_for_guests()"
   ]
  },
  {
   "cell_type": "code",
   "execution_count": 9,
   "id": "773af1c5",
   "metadata": {},
   "outputs": [
    {
     "data": {
      "text/plain": [
       "'\\nQuestion 1 - \\nWrite a piece of code which prints \"Making Tea\" five times.\\n'"
      ]
     },
     "execution_count": 9,
     "metadata": {},
     "output_type": "execute_result"
    }
   ],
   "source": [
    "'''\n",
    "Question 1 - \n",
    "Write a piece of code which prints \"Making Tea\" five times.\n",
    "'''"
   ]
  },
  {
   "cell_type": "code",
   "execution_count": 10,
   "id": "24626f97",
   "metadata": {},
   "outputs": [
    {
     "name": "stdout",
     "output_type": "stream",
     "text": [
      "Making Tea\n",
      "Making Tea\n",
      "Making Tea\n",
      "Making Tea\n",
      "Making Tea\n"
     ]
    }
   ],
   "source": [
    "for i in range(5):\n",
    "    print(\"Making Tea\") # logic to make tea"
   ]
  },
  {
   "cell_type": "code",
   "execution_count": 11,
   "id": "63d95805",
   "metadata": {},
   "outputs": [
    {
     "name": "stdout",
     "output_type": "stream",
     "text": [
      "Making Tea\n"
     ]
    }
   ],
   "source": [
    "print(\"Making Tea\")"
   ]
  },
  {
   "cell_type": "code",
   "execution_count": 12,
   "id": "110345fc",
   "metadata": {},
   "outputs": [],
   "source": [
    "def make_tea():\n",
    "    print(\"Making Tea\")"
   ]
  },
  {
   "cell_type": "code",
   "execution_count": 13,
   "id": "c705653e",
   "metadata": {},
   "outputs": [
    {
     "name": "stdout",
     "output_type": "stream",
     "text": [
      "Making Tea\n"
     ]
    }
   ],
   "source": [
    "make_tea()"
   ]
  },
  {
   "cell_type": "code",
   "execution_count": 14,
   "id": "ea9f882f",
   "metadata": {},
   "outputs": [
    {
     "name": "stdout",
     "output_type": "stream",
     "text": [
      "Making Tea\n",
      "Making Tea\n",
      "Making Tea\n",
      "Making Tea\n",
      "Making Tea\n"
     ]
    }
   ],
   "source": [
    "for i in range(5):\n",
    "    make_tea()"
   ]
  },
  {
   "cell_type": "code",
   "execution_count": 15,
   "id": "66df7a8e",
   "metadata": {},
   "outputs": [],
   "source": [
    "def sheldon_knock():\n",
    "    print(\"knock knock knock penny\")\n",
    "    print(\"knock knock knock penny\")\n",
    "    print(\"knock knock knock penny\")"
   ]
  },
  {
   "cell_type": "code",
   "execution_count": 16,
   "id": "a6994d93",
   "metadata": {},
   "outputs": [
    {
     "name": "stdout",
     "output_type": "stream",
     "text": [
      "knock knock knock penny\n",
      "knock knock knock penny\n",
      "knock knock knock penny\n"
     ]
    }
   ],
   "source": [
    "sheldon_knock()"
   ]
  },
  {
   "cell_type": "code",
   "execution_count": 17,
   "id": "a4fec606",
   "metadata": {},
   "outputs": [],
   "source": [
    "def sheldon_knock(name): # this function accepts an argument name\n",
    "    print(\"knock knock knock\", name)\n",
    "    print(\"knock knock knock\", name)\n",
    "    print(\"knock knock knock\", name)"
   ]
  },
  {
   "cell_type": "code",
   "execution_count": 18,
   "id": "04bce928",
   "metadata": {},
   "outputs": [
    {
     "name": "stdout",
     "output_type": "stream",
     "text": [
      "knock knock knock karthik\n",
      "knock knock knock karthik\n",
      "knock knock knock karthik\n"
     ]
    }
   ],
   "source": [
    "sheldon_knock(\"karthik\")"
   ]
  },
  {
   "cell_type": "code",
   "execution_count": 19,
   "id": "42687a80",
   "metadata": {},
   "outputs": [
    {
     "name": "stdout",
     "output_type": "stream",
     "text": [
      "knock knock knock bipin\n",
      "knock knock knock bipin\n",
      "knock knock knock bipin\n"
     ]
    }
   ],
   "source": [
    "sheldon_knock(\"bipin\")"
   ]
  },
  {
   "cell_type": "code",
   "execution_count": 20,
   "id": "bb3e87ae",
   "metadata": {},
   "outputs": [],
   "source": [
    "random = \"deepthi\""
   ]
  },
  {
   "cell_type": "code",
   "execution_count": 21,
   "id": "7784b237",
   "metadata": {},
   "outputs": [
    {
     "name": "stdout",
     "output_type": "stream",
     "text": [
      "knock knock knock deepthi\n",
      "knock knock knock deepthi\n",
      "knock knock knock deepthi\n"
     ]
    }
   ],
   "source": [
    "sheldon_knock(random)"
   ]
  },
  {
   "cell_type": "code",
   "execution_count": 23,
   "id": "3eb87ee5",
   "metadata": {},
   "outputs": [
    {
     "name": "stdout",
     "output_type": "stream",
     "text": [
      "rahul\n",
      "knock knock knock rahul\n",
      "knock knock knock rahul\n",
      "knock knock knock rahul\n"
     ]
    }
   ],
   "source": [
    "input_name = input()\n",
    "\n",
    "sheldon_knock(input_name)"
   ]
  },
  {
   "cell_type": "code",
   "execution_count": 24,
   "id": "4f7d6185",
   "metadata": {},
   "outputs": [
    {
     "data": {
      "text/plain": [
       "'\\nQuestion 2 - \\nTake a name as input.\\nWrite a greeter function which prints, \"Hello, <name> :)\"\\nafter accepting name as an argument.\\n'"
      ]
     },
     "execution_count": 24,
     "metadata": {},
     "output_type": "execute_result"
    }
   ],
   "source": [
    "'''\n",
    "Question 2 - \n",
    "Take a name as input.\n",
    "Write a greeter function which prints, \"Hello, <name> :)\"\n",
    "after accepting name as an argument.\n",
    "'''"
   ]
  },
  {
   "cell_type": "code",
   "execution_count": 26,
   "id": "fa129117",
   "metadata": {},
   "outputs": [],
   "source": [
    "def greeter(name):\n",
    "    print(\"Hello\", name, \":)\")"
   ]
  },
  {
   "cell_type": "code",
   "execution_count": 28,
   "id": "5512af41",
   "metadata": {},
   "outputs": [
    {
     "name": "stdout",
     "output_type": "stream",
     "text": [
      "shraddha\n",
      "Hello shraddha :)\n"
     ]
    }
   ],
   "source": [
    "random_name = input()\n",
    "\n",
    "greeter(random_name)"
   ]
  },
  {
   "cell_type": "code",
   "execution_count": 29,
   "id": "5d0879b8",
   "metadata": {},
   "outputs": [
    {
     "data": {
      "text/plain": [
       "'\\nQuestion 3 - \\nWrite down a proposal function :)\\nYou have been given a dare. Take an input name from your friends. \\nWrite a function which takes that name as argument and prints\\n\"I LOVE YOU NAME! :)\"\\n'"
      ]
     },
     "execution_count": 29,
     "metadata": {},
     "output_type": "execute_result"
    }
   ],
   "source": [
    "'''\n",
    "Question 3 - \n",
    "Write down a proposal function :)\n",
    "You have been given a dare. Take an input name from your friends. \n",
    "Write a function which takes that name as argument and prints\n",
    "\"I LOVE YOU NAME! :)\"\n",
    "'''"
   ]
  },
  {
   "cell_type": "code",
   "execution_count": 30,
   "id": "54ea8d44",
   "metadata": {},
   "outputs": [
    {
     "name": "stdout",
     "output_type": "stream",
     "text": [
      "Emma Watson\n"
     ]
    }
   ],
   "source": [
    "dare_name = input()"
   ]
  },
  {
   "cell_type": "code",
   "execution_count": 31,
   "id": "3b51b315",
   "metadata": {},
   "outputs": [],
   "source": [
    "def propose(name):\n",
    "    print(\"I LOVE YOU\", name)"
   ]
  },
  {
   "cell_type": "code",
   "execution_count": 32,
   "id": "34229859",
   "metadata": {},
   "outputs": [
    {
     "name": "stdout",
     "output_type": "stream",
     "text": [
      "I LOVE YOU Emma Watson\n"
     ]
    }
   ],
   "source": [
    "propose(dare_name)"
   ]
  },
  {
   "cell_type": "code",
   "execution_count": 33,
   "id": "e303cd07",
   "metadata": {},
   "outputs": [],
   "source": [
    "name1 = \"Hinata\""
   ]
  },
  {
   "cell_type": "code",
   "execution_count": 34,
   "id": "1c302d3b",
   "metadata": {},
   "outputs": [
    {
     "name": "stdout",
     "output_type": "stream",
     "text": [
      "I LOVE YOU Hinata\n"
     ]
    }
   ],
   "source": [
    "propose(name1)"
   ]
  },
  {
   "cell_type": "code",
   "execution_count": 35,
   "id": "a1651053",
   "metadata": {},
   "outputs": [
    {
     "name": "stdout",
     "output_type": "stream",
     "text": [
      "I LOVE YOU Emilia Clarke\n"
     ]
    }
   ],
   "source": [
    "propose(\"Emilia Clarke\")"
   ]
  },
  {
   "cell_type": "code",
   "execution_count": 42,
   "id": "e9e9be49",
   "metadata": {},
   "outputs": [],
   "source": [
    "# A function can accept multiple arguments"
   ]
  },
  {
   "cell_type": "code",
   "execution_count": 37,
   "id": "cc97d370",
   "metadata": {},
   "outputs": [],
   "source": [
    "def introduce_family(father, mother, sibling):\n",
    "    print(\"Father's Name:\", father)\n",
    "    print(\"Mother's Name:\", mother)\n",
    "    print(\"Sibling's Name:\", sibling)"
   ]
  },
  {
   "cell_type": "code",
   "execution_count": 38,
   "id": "f6e766f8",
   "metadata": {},
   "outputs": [
    {
     "name": "stdout",
     "output_type": "stream",
     "text": [
      "Father's Name: Brad Pitt\n",
      "Mother's Name: Angelina Jolie\n",
      "Sibling's Name: Stormi\n"
     ]
    }
   ],
   "source": [
    "introduce_family(\"Brad Pitt\", \"Angelina Jolie\", \"Stormi\")"
   ]
  },
  {
   "cell_type": "code",
   "execution_count": 39,
   "id": "33ad1620",
   "metadata": {},
   "outputs": [
    {
     "name": "stdout",
     "output_type": "stream",
     "text": [
      "Father's Name: Angelina Jolie\n",
      "Mother's Name: Stormi\n",
      "Sibling's Name: Brad Pitt\n"
     ]
    }
   ],
   "source": [
    "introduce_family(\"Angelina Jolie\", \"Stormi\", \"Brad Pitt\")"
   ]
  },
  {
   "cell_type": "code",
   "execution_count": 40,
   "id": "5246464e",
   "metadata": {},
   "outputs": [
    {
     "ename": "TypeError",
     "evalue": "introduce_family() missing 1 required positional argument: 'sibling'",
     "output_type": "error",
     "traceback": [
      "\u001b[0;31m---------------------------------------------------------------------------\u001b[0m",
      "\u001b[0;31mTypeError\u001b[0m                                 Traceback (most recent call last)",
      "\u001b[0;32m/var/folders/nn/c52y0d3j0gq59dpsswchkt2r0000gn/T/ipykernel_27243/3389999355.py\u001b[0m in \u001b[0;36m<module>\u001b[0;34m\u001b[0m\n\u001b[0;32m----> 1\u001b[0;31m \u001b[0mintroduce_family\u001b[0m\u001b[0;34m(\u001b[0m\u001b[0;34m\"A\"\u001b[0m\u001b[0;34m,\u001b[0m \u001b[0;34m\"B\"\u001b[0m\u001b[0;34m)\u001b[0m\u001b[0;34m\u001b[0m\u001b[0;34m\u001b[0m\u001b[0m\n\u001b[0m",
      "\u001b[0;31mTypeError\u001b[0m: introduce_family() missing 1 required positional argument: 'sibling'"
     ]
    }
   ],
   "source": [
    "introduce_family(\"A\", \"B\")"
   ]
  },
  {
   "cell_type": "code",
   "execution_count": 41,
   "id": "2101fe9e",
   "metadata": {},
   "outputs": [
    {
     "ename": "TypeError",
     "evalue": "introduce_family() takes 3 positional arguments but 4 were given",
     "output_type": "error",
     "traceback": [
      "\u001b[0;31m---------------------------------------------------------------------------\u001b[0m",
      "\u001b[0;31mTypeError\u001b[0m                                 Traceback (most recent call last)",
      "\u001b[0;32m/var/folders/nn/c52y0d3j0gq59dpsswchkt2r0000gn/T/ipykernel_27243/3169200133.py\u001b[0m in \u001b[0;36m<module>\u001b[0;34m\u001b[0m\n\u001b[0;32m----> 1\u001b[0;31m \u001b[0mintroduce_family\u001b[0m\u001b[0;34m(\u001b[0m\u001b[0;34m\"A\"\u001b[0m\u001b[0;34m,\u001b[0m \u001b[0;34m\"B\"\u001b[0m\u001b[0;34m,\u001b[0m \u001b[0;34m\"C\"\u001b[0m\u001b[0;34m,\u001b[0m \u001b[0;34m\"D\"\u001b[0m\u001b[0;34m)\u001b[0m\u001b[0;34m\u001b[0m\u001b[0;34m\u001b[0m\u001b[0m\n\u001b[0m",
      "\u001b[0;31mTypeError\u001b[0m: introduce_family() takes 3 positional arguments but 4 were given"
     ]
    }
   ],
   "source": [
    "introduce_family(\"A\", \"B\", \"C\", \"D\")"
   ]
  },
  {
   "cell_type": "code",
   "execution_count": 43,
   "id": "a08a6949",
   "metadata": {},
   "outputs": [],
   "source": [
    "s1 = 'this is a string which uses single quotes'"
   ]
  },
  {
   "cell_type": "code",
   "execution_count": 44,
   "id": "34635021",
   "metadata": {},
   "outputs": [
    {
     "data": {
      "text/plain": [
       "'this is a string which uses single quotes'"
      ]
     },
     "execution_count": 44,
     "metadata": {},
     "output_type": "execute_result"
    }
   ],
   "source": [
    "s1"
   ]
  },
  {
   "cell_type": "code",
   "execution_count": 45,
   "id": "8bbc8246",
   "metadata": {},
   "outputs": [],
   "source": [
    "s2 = \"this is a string which uses double quotes\""
   ]
  },
  {
   "cell_type": "code",
   "execution_count": 46,
   "id": "f5b0fceb",
   "metadata": {},
   "outputs": [
    {
     "data": {
      "text/plain": [
       "'this is a string which uses double quotes'"
      ]
     },
     "execution_count": 46,
     "metadata": {},
     "output_type": "execute_result"
    }
   ],
   "source": [
    "s2"
   ]
  },
  {
   "cell_type": "code",
   "execution_count": 49,
   "id": "866ebe92",
   "metadata": {},
   "outputs": [],
   "source": [
    "s3 = '''this is a string which uses triple quotes'''\n",
    "# these are special strings called docstrings"
   ]
  },
  {
   "cell_type": "code",
   "execution_count": 50,
   "id": "48d84fc1",
   "metadata": {},
   "outputs": [
    {
     "data": {
      "text/plain": [
       "'this is a string which uses triple quotes'"
      ]
     },
     "execution_count": 50,
     "metadata": {},
     "output_type": "execute_result"
    }
   ],
   "source": [
    "s3"
   ]
  },
  {
   "cell_type": "code",
   "execution_count": 51,
   "id": "502e3654",
   "metadata": {},
   "outputs": [],
   "source": [
    "s4 = '''\n",
    "this is a string which contains\n",
    "    multiple lines and         various extra\n",
    "            white\n",
    "            \n",
    "spaces!\n",
    "'''"
   ]
  },
  {
   "cell_type": "code",
   "execution_count": 52,
   "id": "8db56617",
   "metadata": {},
   "outputs": [
    {
     "data": {
      "text/plain": [
       "'\\nthis is a string which contains\\n    multiple lines and         various extra\\n            white\\n            \\nspaces!\\n'"
      ]
     },
     "execution_count": 52,
     "metadata": {},
     "output_type": "execute_result"
    }
   ],
   "source": [
    "s4"
   ]
  },
  {
   "cell_type": "code",
   "execution_count": 54,
   "id": "26f8beb2",
   "metadata": {},
   "outputs": [],
   "source": [
    "def random(a, b):\n",
    "    '''\n",
    "    This function takes two arguments - \n",
    "    a and b can be of any type\n",
    "    \n",
    "    Output - Prints both the arguments separated by space\n",
    "    '''\n",
    "    \n",
    "    print(a, b)"
   ]
  },
  {
   "cell_type": "code",
   "execution_count": 55,
   "id": "47440027",
   "metadata": {},
   "outputs": [
    {
     "name": "stdout",
     "output_type": "stream",
     "text": [
      "a b\n"
     ]
    }
   ],
   "source": [
    "random(\"a\", \"b\")"
   ]
  },
  {
   "cell_type": "code",
   "execution_count": 56,
   "id": "b38f2a85",
   "metadata": {},
   "outputs": [
    {
     "name": "stdout",
     "output_type": "stream",
     "text": [
      "Help on function random in module __main__:\n",
      "\n",
      "random(a, b)\n",
      "    This function takes two arguments - \n",
      "    a and b can be of any type\n",
      "    \n",
      "    Output - Prints both the arguments separated by space\n",
      "\n"
     ]
    }
   ],
   "source": [
    "help(random)"
   ]
  },
  {
   "cell_type": "code",
   "execution_count": 60,
   "id": "afb62e3c",
   "metadata": {},
   "outputs": [],
   "source": [
    "# help(print)"
   ]
  },
  {
   "cell_type": "code",
   "execution_count": 59,
   "id": "74022ad5",
   "metadata": {},
   "outputs": [],
   "source": [
    "# help(type)"
   ]
  },
  {
   "cell_type": "code",
   "execution_count": 61,
   "id": "1a6a2eb2",
   "metadata": {},
   "outputs": [
    {
     "data": {
      "text/plain": [
       "'\\nthis is also possible\\n'"
      ]
     },
     "execution_count": 61,
     "metadata": {},
     "output_type": "execute_result"
    }
   ],
   "source": [
    "'''\n",
    "this is also possible\n",
    "'''"
   ]
  },
  {
   "cell_type": "code",
   "execution_count": 62,
   "id": "a24fc41b",
   "metadata": {},
   "outputs": [
    {
     "data": {
      "text/plain": [
       "'\\nthis is also possible\\n'"
      ]
     },
     "execution_count": 62,
     "metadata": {},
     "output_type": "execute_result"
    }
   ],
   "source": [
    "\"\"\"\n",
    "this is also possible\n",
    "\"\"\""
   ]
  },
  {
   "cell_type": "code",
   "execution_count": 63,
   "id": "3650e136",
   "metadata": {},
   "outputs": [
    {
     "ename": "NameError",
     "evalue": "name 'random_function' is not defined",
     "output_type": "error",
     "traceback": [
      "\u001b[0;31m---------------------------------------------------------------------------\u001b[0m",
      "\u001b[0;31mNameError\u001b[0m                                 Traceback (most recent call last)",
      "\u001b[0;32m/var/folders/nn/c52y0d3j0gq59dpsswchkt2r0000gn/T/ipykernel_27243/2722867697.py\u001b[0m in \u001b[0;36m<module>\u001b[0;34m\u001b[0m\n\u001b[0;32m----> 1\u001b[0;31m \u001b[0mhelp\u001b[0m\u001b[0;34m(\u001b[0m\u001b[0mrandom_function\u001b[0m\u001b[0;34m)\u001b[0m\u001b[0;34m\u001b[0m\u001b[0;34m\u001b[0m\u001b[0m\n\u001b[0m",
      "\u001b[0;31mNameError\u001b[0m: name 'random_function' is not defined"
     ]
    }
   ],
   "source": [
    "help(random_function)"
   ]
  },
  {
   "cell_type": "code",
   "execution_count": 64,
   "id": "70e0f63e",
   "metadata": {},
   "outputs": [
    {
     "data": {
      "text/plain": [
       "9"
      ]
     },
     "execution_count": 64,
     "metadata": {},
     "output_type": "execute_result"
    }
   ],
   "source": [
    "4 + 5"
   ]
  },
  {
   "cell_type": "code",
   "execution_count": 65,
   "id": "0227c806",
   "metadata": {},
   "outputs": [
    {
     "data": {
      "text/plain": [
       "'string1string2'"
      ]
     },
     "execution_count": 65,
     "metadata": {},
     "output_type": "execute_result"
    }
   ],
   "source": [
    "\"string1\" + \"string2\""
   ]
  },
  {
   "cell_type": "code",
   "execution_count": 66,
   "id": "5917d9d9",
   "metadata": {},
   "outputs": [
    {
     "ename": "TypeError",
     "evalue": "can only concatenate str (not \"int\") to str",
     "output_type": "error",
     "traceback": [
      "\u001b[0;31m---------------------------------------------------------------------------\u001b[0m",
      "\u001b[0;31mTypeError\u001b[0m                                 Traceback (most recent call last)",
      "\u001b[0;32m/var/folders/nn/c52y0d3j0gq59dpsswchkt2r0000gn/T/ipykernel_27243/2884767487.py\u001b[0m in \u001b[0;36m<module>\u001b[0;34m\u001b[0m\n\u001b[0;32m----> 1\u001b[0;31m \u001b[0;34m\"string1\"\u001b[0m \u001b[0;34m+\u001b[0m \u001b[0;36m1\u001b[0m\u001b[0;34m\u001b[0m\u001b[0;34m\u001b[0m\u001b[0m\n\u001b[0m",
      "\u001b[0;31mTypeError\u001b[0m: can only concatenate str (not \"int\") to str"
     ]
    }
   ],
   "source": [
    "\"string1\" + 1"
   ]
  },
  {
   "cell_type": "code",
   "execution_count": 67,
   "id": "2e446df9",
   "metadata": {},
   "outputs": [],
   "source": [
    "def add_two(a, b):\n",
    "    '''\n",
    "    Arguments - \n",
    "    a: Int or String\n",
    "    b: Int or String\n",
    "    \n",
    "    Note - Please do not enter mixed data types i.e. both integers or both strings\n",
    "    \n",
    "    Output - \n",
    "    Str + Str -> Concatenation\n",
    "    Int + Int -> Addition\n",
    "    '''\n",
    "    \n",
    "    result = a + b\n",
    "    print(result)"
   ]
  },
  {
   "cell_type": "code",
   "execution_count": 68,
   "id": "c3bb0375",
   "metadata": {},
   "outputs": [
    {
     "name": "stdout",
     "output_type": "stream",
     "text": [
      "Help on function add_two in module __main__:\n",
      "\n",
      "add_two(a, b)\n",
      "    Arguments - \n",
      "    a: Int or String\n",
      "    b: Int or String\n",
      "    \n",
      "    Note - Please do not enter mixed data types i.e. both integers or both strings\n",
      "    \n",
      "    Output - \n",
      "    Str + Str -> Concatenation\n",
      "    Int + Int -> Addition\n",
      "\n"
     ]
    }
   ],
   "source": [
    "help(add_two)"
   ]
  },
  {
   "cell_type": "code",
   "execution_count": 69,
   "id": "a62940d1",
   "metadata": {
    "scrolled": true
   },
   "outputs": [
    {
     "data": {
      "text/plain": [
       "45"
      ]
     },
     "execution_count": 69,
     "metadata": {},
     "output_type": "execute_result"
    }
   ],
   "source": [
    "45"
   ]
  },
  {
   "cell_type": "code",
   "execution_count": 70,
   "id": "ec3760bc",
   "metadata": {
    "scrolled": true
   },
   "outputs": [
    {
     "name": "stdout",
     "output_type": "stream",
     "text": [
      "45\n"
     ]
    }
   ],
   "source": [
    "print(45)"
   ]
  },
  {
   "cell_type": "code",
   "execution_count": 71,
   "id": "7686a420",
   "metadata": {},
   "outputs": [],
   "source": [
    "def money_back(money):\n",
    "    print(money)"
   ]
  },
  {
   "cell_type": "code",
   "execution_count": 72,
   "id": "2b7fd92a",
   "metadata": {},
   "outputs": [
    {
     "name": "stdout",
     "output_type": "stream",
     "text": [
      "500\n"
     ]
    }
   ],
   "source": [
    "money_back(500)"
   ]
  },
  {
   "cell_type": "code",
   "execution_count": 73,
   "id": "33264745",
   "metadata": {},
   "outputs": [
    {
     "name": "stdout",
     "output_type": "stream",
     "text": [
      "500\n"
     ]
    }
   ],
   "source": [
    "received = money_back(500)"
   ]
  },
  {
   "cell_type": "code",
   "execution_count": 74,
   "id": "2b216606",
   "metadata": {},
   "outputs": [
    {
     "name": "stdout",
     "output_type": "stream",
     "text": [
      "None\n"
     ]
    }
   ],
   "source": [
    "print(received)"
   ]
  },
  {
   "cell_type": "code",
   "execution_count": 75,
   "id": "3fb51672",
   "metadata": {},
   "outputs": [],
   "source": [
    "def add_two_numbers(a, b):\n",
    "    print(a + b)"
   ]
  },
  {
   "cell_type": "code",
   "execution_count": 76,
   "id": "311b785e",
   "metadata": {},
   "outputs": [
    {
     "name": "stdout",
     "output_type": "stream",
     "text": [
      "11\n"
     ]
    }
   ],
   "source": [
    "result = add_two_numbers(5, 6)"
   ]
  },
  {
   "cell_type": "code",
   "execution_count": 77,
   "id": "94b3084e",
   "metadata": {},
   "outputs": [
    {
     "name": "stdout",
     "output_type": "stream",
     "text": [
      "None\n"
     ]
    }
   ],
   "source": [
    "print(result)"
   ]
  },
  {
   "cell_type": "code",
   "execution_count": 78,
   "id": "dd305a59",
   "metadata": {},
   "outputs": [],
   "source": [
    "def add_two_numbers(a, b):\n",
    "    return a + b # return statement of a function"
   ]
  },
  {
   "cell_type": "code",
   "execution_count": 79,
   "id": "304570b7",
   "metadata": {},
   "outputs": [],
   "source": [
    "result = add_two_numbers(5, 6)"
   ]
  },
  {
   "cell_type": "code",
   "execution_count": 80,
   "id": "cab05db7",
   "metadata": {},
   "outputs": [
    {
     "name": "stdout",
     "output_type": "stream",
     "text": [
      "11\n"
     ]
    }
   ],
   "source": [
    "print(result)"
   ]
  },
  {
   "cell_type": "code",
   "execution_count": 81,
   "id": "b5744c5b",
   "metadata": {},
   "outputs": [],
   "source": [
    "def add_two_numbers_with_print(a, b):\n",
    "    print(a + b)\n",
    "    \n",
    "    \n",
    "def add_two_numbers_with_return(a, b):\n",
    "    return a + b "
   ]
  },
  {
   "cell_type": "code",
   "execution_count": 82,
   "id": "5ea1423f",
   "metadata": {},
   "outputs": [
    {
     "name": "stdout",
     "output_type": "stream",
     "text": [
      "11\n"
     ]
    }
   ],
   "source": [
    "add_two_numbers_with_print(5,6)"
   ]
  },
  {
   "cell_type": "code",
   "execution_count": 83,
   "id": "ccae7bc0",
   "metadata": {
    "scrolled": false
   },
   "outputs": [
    {
     "data": {
      "text/plain": [
       "11"
      ]
     },
     "execution_count": 83,
     "metadata": {},
     "output_type": "execute_result"
    }
   ],
   "source": [
    "add_two_numbers_with_return(5,6)"
   ]
  },
  {
   "cell_type": "code",
   "execution_count": 84,
   "id": "9ffb97f0",
   "metadata": {},
   "outputs": [],
   "source": [
    "def add_two_numbers_with_both(a, b):\n",
    "    print( a + b )\n",
    "    return a + b "
   ]
  },
  {
   "cell_type": "code",
   "execution_count": 85,
   "id": "63ce6abe",
   "metadata": {},
   "outputs": [
    {
     "name": "stdout",
     "output_type": "stream",
     "text": [
      "11\n"
     ]
    },
    {
     "data": {
      "text/plain": [
       "11"
      ]
     },
     "execution_count": 85,
     "metadata": {},
     "output_type": "execute_result"
    }
   ],
   "source": [
    "add_two_numbers_with_both(5,6)"
   ]
  },
  {
   "cell_type": "code",
   "execution_count": 5,
   "id": "b2d6bf7a",
   "metadata": {},
   "outputs": [],
   "source": [
    "def random():\n",
    "    print(\"Before return\")\n",
    "    return 1 # last statement that executes in a function\n",
    "    print(\"After return\")"
   ]
  },
  {
   "cell_type": "code",
   "execution_count": 4,
   "id": "d997ef57",
   "metadata": {},
   "outputs": [
    {
     "name": "stdout",
     "output_type": "stream",
     "text": [
      "Before return\n"
     ]
    },
    {
     "data": {
      "text/plain": [
       "1"
      ]
     },
     "execution_count": 4,
     "metadata": {},
     "output_type": "execute_result"
    }
   ],
   "source": [
    "random()"
   ]
  },
  {
   "cell_type": "code",
   "execution_count": 6,
   "id": "28c07e67",
   "metadata": {},
   "outputs": [
    {
     "ename": "SyntaxError",
     "evalue": "'return' outside function (2826953615.py, line 1)",
     "output_type": "error",
     "traceback": [
      "\u001b[0;36m  File \u001b[0;32m\"/var/folders/nn/c52y0d3j0gq59dpsswchkt2r0000gn/T/ipykernel_28219/2826953615.py\"\u001b[0;36m, line \u001b[0;32m1\u001b[0m\n\u001b[0;31m    return 5\u001b[0m\n\u001b[0m    ^\u001b[0m\n\u001b[0;31mSyntaxError\u001b[0m\u001b[0;31m:\u001b[0m 'return' outside function\n"
     ]
    }
   ],
   "source": [
    "return 5"
   ]
  },
  {
   "cell_type": "code",
   "execution_count": null,
   "id": "48d7e8cf",
   "metadata": {},
   "outputs": [],
   "source": []
  }
 ],
 "metadata": {
  "kernelspec": {
   "display_name": "Python 3 (ipykernel)",
   "language": "python",
   "name": "python3"
  },
  "language_info": {
   "codemirror_mode": {
    "name": "ipython",
    "version": 3
   },
   "file_extension": ".py",
   "mimetype": "text/x-python",
   "name": "python",
   "nbconvert_exporter": "python",
   "pygments_lexer": "ipython3",
   "version": "3.9.5"
  }
 },
 "nbformat": 4,
 "nbformat_minor": 5
}
