{
  "nbformat": 4,
  "nbformat_minor": 0,
  "metadata": {
    "colab": {
      "provenance": [],
      "include_colab_link": true
    },
    "kernelspec": {
      "name": "python3",
      "display_name": "Python 3"
    },
    "language_info": {
      "name": "python"
    }
  },
  "cells": [
    {
      "cell_type": "markdown",
      "metadata": {
        "id": "view-in-github",
        "colab_type": "text"
      },
      "source": [
        "<a href=\"https://colab.research.google.com/github/imgauravswarnsharma/dsml-nov22-beginner-morning-tue/blob/main/nov_pattern_printing.ipynb\" target=\"_parent\"><img src=\"https://colab.research.google.com/assets/colab-badge.svg\" alt=\"Open In Colab\"/></a>"
      ]
    },
    {
      "cell_type": "code",
      "execution_count": null,
      "metadata": {
        "colab": {
          "base_uri": "https://localhost:8080/"
        },
        "id": "s31ABq_ZJ5BB",
        "outputId": "739225e3-7dac-4867-e8b8-90904dea4bc8"
      },
      "outputs": [
        {
          "output_type": "stream",
          "name": "stdout",
          "text": [
            "Hows the josh?\n"
          ]
        }
      ],
      "source": [
        "print(\"Hows the josh?\")"
      ]
    },
    {
      "cell_type": "code",
      "source": [
        "'''\n",
        "Question1:\n",
        "\n",
        "Print the following pattern:\n",
        "\n",
        "n = 5\n",
        "\n",
        "*\n",
        "**\n",
        "***\n",
        "****\n",
        "*****\n",
        "\n",
        "Input the number of rows from the user: n\n",
        "'''"
      ],
      "metadata": {
        "id": "C5-dxCLEMX0o"
      },
      "execution_count": null,
      "outputs": []
    },
    {
      "cell_type": "code",
      "source": [
        "n = int(input())\n",
        "\n",
        "for i in range(n):\n",
        "  #print ith row\n",
        "  for j in range(i+1):\n",
        "    print('*', end = \"\")\n",
        "\n",
        "  # print(\"\\n\", end = \"\")\n",
        "  print()"
      ],
      "metadata": {
        "colab": {
          "base_uri": "https://localhost:8080/"
        },
        "id": "I8fTKSDzNv44",
        "outputId": "a5b009a1-1a46-41c3-8682-0495efa5419a"
      },
      "execution_count": null,
      "outputs": [
        {
          "output_type": "stream",
          "name": "stdout",
          "text": [
            "5\n",
            "*\n",
            "**\n",
            "***\n",
            "****\n",
            "*****\n"
          ]
        }
      ]
    },
    {
      "cell_type": "code",
      "source": [
        "i = 5\n",
        "# i+1 stars\n",
        "for j in range(i+1):\n",
        "  print('*', end = \"\")\n"
      ],
      "metadata": {
        "colab": {
          "base_uri": "https://localhost:8080/"
        },
        "id": "DbII5yKIOA2g",
        "outputId": "e154efe4-48a5-4f87-fd11-8eb34662337d"
      },
      "execution_count": null,
      "outputs": [
        {
          "output_type": "stream",
          "name": "stdout",
          "text": [
            "******"
          ]
        }
      ]
    },
    {
      "cell_type": "code",
      "source": [
        "'''\n",
        "Question2:\n",
        "\n",
        "Print the following pattern:\n",
        "\n",
        "n = 6\n",
        "1\n",
        "12\n",
        "123\n",
        "1234\n",
        "12345\n",
        "123456\n",
        "\n",
        "'''"
      ],
      "metadata": {
        "id": "tu0ItxixO53b"
      },
      "execution_count": null,
      "outputs": []
    },
    {
      "cell_type": "code",
      "source": [
        "# n = int(input())\n",
        "\n",
        "n = 5\n",
        "for i in range(1, n+1):\n",
        "  #print the ith row\n",
        "  for j in range(1, i+1):\n",
        "    print(j, end = \"\")\n",
        "\n",
        "  print()"
      ],
      "metadata": {
        "colab": {
          "base_uri": "https://localhost:8080/"
        },
        "id": "ZrVSaabqQNx5",
        "outputId": "5d11b6af-6830-4aac-da2d-bf33fbc16f96"
      },
      "execution_count": null,
      "outputs": [
        {
          "output_type": "stream",
          "name": "stdout",
          "text": [
            "1\n",
            "12\n",
            "123\n",
            "1234\n",
            "12345\n"
          ]
        }
      ]
    },
    {
      "cell_type": "code",
      "source": [
        "#HW - try to start row numbers from 0 and then print the same pattern"
      ],
      "metadata": {
        "id": "k--V_C2jRdon"
      },
      "execution_count": null,
      "outputs": []
    },
    {
      "cell_type": "code",
      "source": [
        "for i in range(5):\n",
        "  print(i)"
      ],
      "metadata": {
        "colab": {
          "base_uri": "https://localhost:8080/"
        },
        "id": "yDIcM_wLR7Gr",
        "outputId": "bba4cdcd-1fc1-48da-887f-197f2df07012"
      },
      "execution_count": null,
      "outputs": [
        {
          "output_type": "stream",
          "name": "stdout",
          "text": [
            "0\n",
            "1\n",
            "2\n",
            "3\n",
            "4\n"
          ]
        }
      ]
    },
    {
      "cell_type": "code",
      "source": [
        "for i in range(5):\n",
        "  print(i, end = \" \")"
      ],
      "metadata": {
        "colab": {
          "base_uri": "https://localhost:8080/"
        },
        "id": "x-ThqINISAEy",
        "outputId": "2ab210eb-ad4c-464c-ab5b-76f27d926ce4"
      },
      "execution_count": null,
      "outputs": [
        {
          "output_type": "stream",
          "name": "stdout",
          "text": [
            "0 1 2 3 4 "
          ]
        }
      ]
    },
    {
      "cell_type": "code",
      "source": [
        "print(\"\\n\", end = \"\")"
      ],
      "metadata": {
        "id": "pKfeCDI4SKA_"
      },
      "execution_count": null,
      "outputs": []
    },
    {
      "cell_type": "code",
      "source": [
        "'''\n",
        "Question2:\n",
        "\n",
        "Print the following pattern:\n",
        "\n",
        "n = 6\n",
        "1\n",
        "12\n",
        "123\n",
        "1234\n",
        "12345\n",
        "123456\n",
        "\n",
        "'''"
      ],
      "metadata": {
        "id": "r4dRACBjS25X"
      },
      "execution_count": null,
      "outputs": []
    },
    {
      "cell_type": "code",
      "source": [
        "#0 based row number\n",
        "\n",
        "n = 5\n",
        "\n",
        "for i in range(n):\n",
        "\n",
        "  #print the ith row\n",
        "  for j in range(1, i+2):\n",
        "    print(j, end = \"\")\n",
        "\n",
        "  print()"
      ],
      "metadata": {
        "colab": {
          "base_uri": "https://localhost:8080/"
        },
        "id": "fjojXQtIS561",
        "outputId": "18fd5233-bdcc-4d0e-ba19-b3916bab20ab"
      },
      "execution_count": null,
      "outputs": [
        {
          "output_type": "stream",
          "name": "stdout",
          "text": [
            "1\n",
            "12\n",
            "123\n",
            "1234\n",
            "12345\n"
          ]
        }
      ]
    },
    {
      "cell_type": "code",
      "source": [
        "'''\n",
        "Question2:\n",
        "\n",
        "Print the following pattern:\n",
        "\n",
        "n = 6\n",
        "*\n",
        "*2\n",
        "*2*\n",
        "*2*4\n",
        "*2*4*\n",
        "*2*4*6\n",
        "\n",
        "\n",
        "Obs:\n",
        "Within each row: printing 1 - i\n",
        "even - print number\n",
        "odd - print *\n",
        "'''"
      ],
      "metadata": {
        "id": "azffhBYSTv7N"
      },
      "execution_count": null,
      "outputs": []
    },
    {
      "cell_type": "code",
      "source": [
        "n = int(input())\n",
        "\n",
        "for i in range(1,n+1):\n",
        "\n",
        "  #print the ith row\n",
        "  for j in range(1,i+1):\n",
        "\n",
        "    if j%2 == 0:\n",
        "      print(j, end = \"\")\n",
        "    else:\n",
        "      print('*', end= \"\")\n",
        "\n",
        "  print()"
      ],
      "metadata": {
        "colab": {
          "base_uri": "https://localhost:8080/"
        },
        "id": "uFjlqvvXVIld",
        "outputId": "305ff507-369c-4bc6-f3c2-62ed385375cd"
      },
      "execution_count": null,
      "outputs": [
        {
          "output_type": "stream",
          "name": "stdout",
          "text": [
            "5\n",
            "*\n",
            "*2\n",
            "*2*\n",
            "*2*4\n",
            "*2*4*\n"
          ]
        }
      ]
    },
    {
      "cell_type": "code",
      "source": [
        "n = 6\n",
        "\n",
        "for i in range(1,n+1):\n",
        "\n",
        "  #print the ith row\n",
        "  for j in range(1,i+1):\n",
        "\n",
        "    if j%2 == 0:\n",
        "      print(j, end = \"\")\n",
        "    else:\n",
        "      print('*', end= \"\")\n",
        "\n",
        "  print()"
      ],
      "metadata": {
        "colab": {
          "base_uri": "https://localhost:8080/"
        },
        "id": "FDzJOtZvVwCQ",
        "outputId": "2adf8dd6-c9b7-4d38-d9b8-ef4a08913811"
      },
      "execution_count": null,
      "outputs": [
        {
          "output_type": "stream",
          "name": "stdout",
          "text": [
            "*\n",
            "*2\n",
            "*2*\n",
            "*2*4\n",
            "*2*4*\n",
            "*2*4*6\n"
          ]
        }
      ]
    },
    {
      "cell_type": "code",
      "source": [
        "'''\n",
        "*\n",
        "*2\n",
        "*2*\n",
        "*2*4\n",
        "*2*4*\n",
        "*2*4*6\n",
        "'''"
      ],
      "metadata": {
        "id": "Kj21k6D-WHAv"
      },
      "execution_count": null,
      "outputs": []
    },
    {
      "cell_type": "code",
      "source": [
        "'''\n",
        "Quesiton4:\n",
        "Print the following pattern:\n",
        "n = 5\n",
        "\n",
        "    *\n",
        "   **\n",
        "  ***\n",
        " ****\n",
        "*****\n",
        "'''"
      ],
      "metadata": {
        "id": "E3SdiM0DdRND"
      },
      "execution_count": null,
      "outputs": []
    },
    {
      "cell_type": "code",
      "source": [
        "n = 5\n",
        "\n",
        "for i in range(n):\n",
        "\n",
        "  #print ith row\n",
        "\n",
        "  #print the space part\n",
        "\n",
        "  #print the star part\n",
        "\n",
        "  print()"
      ],
      "metadata": {
        "id": "mgQ3vnG_dfxi"
      },
      "execution_count": null,
      "outputs": []
    },
    {
      "cell_type": "code",
      "source": [
        "n = 5\n",
        "\n",
        "for i in range(n):\n",
        "\n",
        "  #print ith row\n",
        "\n",
        "  #print the space part- this loop should run n-i-1 number of times\n",
        "  for j in range(n-i-1):\n",
        "    print(\"@\", end = \"\")\n",
        "\n",
        "  #print the star part- this loop should run i+1 number of times\n",
        "  for k in range(i+1):\n",
        "    print(\"*\", end = \"\")\n",
        "\n",
        "  print()"
      ],
      "metadata": {
        "colab": {
          "base_uri": "https://localhost:8080/"
        },
        "id": "J3kgShsVd0M9",
        "outputId": "c882ba10-d510-4ee6-d01a-5d25251f3f40"
      },
      "execution_count": null,
      "outputs": [
        {
          "output_type": "stream",
          "name": "stdout",
          "text": [
            "@@@@*\n",
            "@@@**\n",
            "@@***\n",
            "@****\n",
            "*****\n"
          ]
        }
      ]
    },
    {
      "cell_type": "code",
      "source": [
        "for i in range(5):\n",
        "  print(i)"
      ],
      "metadata": {
        "colab": {
          "base_uri": "https://localhost:8080/"
        },
        "id": "rdd_pddjeNM5",
        "outputId": "0e137453-9d1c-4cf5-c2f9-28511defb7b7"
      },
      "execution_count": null,
      "outputs": [
        {
          "output_type": "stream",
          "name": "stdout",
          "text": [
            "0\n",
            "1\n",
            "2\n",
            "3\n",
            "4\n"
          ]
        }
      ]
    },
    {
      "cell_type": "code",
      "source": [
        "for i in range(5):\n",
        "  print('*',end = \"\")"
      ],
      "metadata": {
        "colab": {
          "base_uri": "https://localhost:8080/"
        },
        "id": "p_m6syXzeRCC",
        "outputId": "417d3020-e654-4d32-d6d9-ef8838bf91c3"
      },
      "execution_count": null,
      "outputs": [
        {
          "output_type": "stream",
          "name": "stdout",
          "text": [
            "*****"
          ]
        }
      ]
    },
    {
      "cell_type": "code",
      "source": [
        "for i in range(1,6):\n",
        "  print('*')"
      ],
      "metadata": {
        "colab": {
          "base_uri": "https://localhost:8080/"
        },
        "id": "D1ij4OGzebms",
        "outputId": "0a09ec22-e402-448a-8d66-8d62d036815b"
      },
      "execution_count": null,
      "outputs": [
        {
          "output_type": "stream",
          "name": "stdout",
          "text": [
            "*\n",
            "*\n",
            "*\n",
            "*\n",
            "*\n"
          ]
        }
      ]
    },
    {
      "cell_type": "code",
      "source": [
        "'''\n",
        "Question 5:\n",
        "n = 5\n",
        "\n",
        "*****\n",
        "****\n",
        "***\n",
        "**\n",
        "*\n",
        "\n",
        "'''"
      ],
      "metadata": {
        "id": "d4cDiFBleeC_"
      },
      "execution_count": null,
      "outputs": []
    },
    {
      "cell_type": "code",
      "source": [
        "n = 5\n",
        "\n",
        "for i in range(5):\n",
        "\n",
        "  #print ith row --> print n-i number of stars\n",
        "  for j in range(0,n-i):\n",
        "    print(\"*\", end = \"\")\n",
        "  \n",
        "  print()"
      ],
      "metadata": {
        "colab": {
          "base_uri": "https://localhost:8080/"
        },
        "id": "9f0mo5iZin2M",
        "outputId": "df5ee2ef-afdb-43dd-dc09-72be70aee47f"
      },
      "execution_count": null,
      "outputs": [
        {
          "output_type": "stream",
          "name": "stdout",
          "text": [
            "*****\n",
            "****\n",
            "***\n",
            "**\n",
            "*\n"
          ]
        }
      ]
    },
    {
      "cell_type": "code",
      "source": [
        "n = 5\n",
        "\n",
        "for i in range(5):\n",
        "\n",
        "  #print ith row --> print n-i number of stars\n",
        "  for j in range(1,n-i+1):\n",
        "    print(\"*\", end = \"\")\n",
        "  \n",
        "  print()"
      ],
      "metadata": {
        "colab": {
          "base_uri": "https://localhost:8080/"
        },
        "id": "4ZqqiKzCizfG",
        "outputId": "6ce8a413-f230-4cb3-9806-ae44a2b8d572"
      },
      "execution_count": null,
      "outputs": [
        {
          "output_type": "stream",
          "name": "stdout",
          "text": [
            "*****\n",
            "****\n",
            "***\n",
            "**\n",
            "*\n"
          ]
        }
      ]
    },
    {
      "cell_type": "code",
      "source": [
        "n = 5\n",
        "\n",
        "for i in range(5):\n",
        "\n",
        "  #print ith row --> print n-i number of stars\n",
        "  for j in range(2,n-i+2):\n",
        "    print(\"*\", end = \"\")\n",
        "  \n",
        "  print()"
      ],
      "metadata": {
        "colab": {
          "base_uri": "https://localhost:8080/"
        },
        "id": "6HPSvxDni27W",
        "outputId": "413207c0-9fde-451c-ec36-33a90586e190"
      },
      "execution_count": null,
      "outputs": [
        {
          "output_type": "stream",
          "name": "stdout",
          "text": [
            "*****\n",
            "****\n",
            "***\n",
            "**\n",
            "*\n"
          ]
        }
      ]
    },
    {
      "cell_type": "code",
      "source": [
        "for i in range(5):\n",
        "  for j in range(n-i):\n",
        "    print(\"*\", end = \"\")\n",
        "  \n",
        "  print()"
      ],
      "metadata": {
        "colab": {
          "base_uri": "https://localhost:8080/"
        },
        "id": "ivxPE8c8i62N",
        "outputId": "f8c7f034-0843-497b-fb6a-3c2002b9a600"
      },
      "execution_count": null,
      "outputs": [
        {
          "output_type": "stream",
          "name": "stdout",
          "text": [
            "*****\n",
            "****\n",
            "***\n",
            "**\n",
            "*\n"
          ]
        }
      ]
    },
    {
      "cell_type": "code",
      "source": [
        "# doubts"
      ],
      "metadata": {
        "id": "B39-ssislAnQ"
      },
      "execution_count": null,
      "outputs": []
    },
    {
      "cell_type": "code",
      "source": [
        "# print(\"*\", end = \" \") -- for all\n",
        "# print(\"*\", end =\"\") -- for last"
      ],
      "metadata": {
        "id": "Kb44gIWnkXWK"
      },
      "execution_count": null,
      "outputs": []
    },
    {
      "cell_type": "code",
      "source": [
        "# print all the nubmers from 1 to n\n",
        "n=6\n",
        "for j in range(1,n+1):\n",
        "  print(j, end = \" \")"
      ],
      "metadata": {
        "colab": {
          "base_uri": "https://localhost:8080/"
        },
        "id": "Hiex8YWflVJf",
        "outputId": "5ad16c17-cd61-4cde-a7c9-64fdfaf9f714"
      },
      "execution_count": null,
      "outputs": [
        {
          "output_type": "stream",
          "name": "stdout",
          "text": [
            "1 2 3 4 5 6 "
          ]
        }
      ]
    },
    {
      "cell_type": "code",
      "source": [
        "for j in range(n+1):\n",
        "  print(j)"
      ],
      "metadata": {
        "colab": {
          "base_uri": "https://localhost:8080/"
        },
        "id": "M9MYBK-Blao5",
        "outputId": "7272e100-6a76-498b-f27f-87b56052d48b"
      },
      "execution_count": null,
      "outputs": [
        {
          "output_type": "stream",
          "name": "stdout",
          "text": [
            "0\n",
            "1\n",
            "2\n",
            "3\n",
            "4\n",
            "5\n",
            "6\n"
          ]
        }
      ]
    },
    {
      "cell_type": "code",
      "source": [
        "num1 = int(input())\n",
        "for i in range(1, num1+1,1):\n",
        "  for j in range(i,0,-1):\n",
        "    print(i,j, end = \"   \")\n",
        "  \n",
        "  print()\n"
      ],
      "metadata": {
        "colab": {
          "base_uri": "https://localhost:8080/"
        },
        "id": "VGMj8WUUnJ0i",
        "outputId": "be15c0ea-8f22-4ccf-f4b0-ba39ba0cc6b8"
      },
      "execution_count": null,
      "outputs": [
        {
          "output_type": "stream",
          "name": "stdout",
          "text": [
            "4\n",
            "1 1   \n",
            "2 2   2 1   \n",
            "3 3   3 2   3 1   \n",
            "4 4   4 3   4 2   4 1   \n"
          ]
        }
      ]
    },
    {
      "cell_type": "code",
      "source": [
        "n=int(input()) \n",
        "for i in range (n,0,-1):\n",
        "  for j in range (i,0,-1):\n",
        "    print(j,end=\"\")\n",
        "  \n",
        "  print()"
      ],
      "metadata": {
        "colab": {
          "base_uri": "https://localhost:8080/"
        },
        "id": "980T3ReHndRP",
        "outputId": "f99050ff-f37c-4913-9192-6684351d9f09"
      },
      "execution_count": null,
      "outputs": [
        {
          "output_type": "stream",
          "name": "stdout",
          "text": [
            "4\n",
            "4321\n",
            "321\n",
            "21\n",
            "1\n"
          ]
        }
      ]
    },
    {
      "cell_type": "code",
      "source": [],
      "metadata": {
        "id": "iO9sxBxloMxs"
      },
      "execution_count": null,
      "outputs": []
    }
  ]
}
