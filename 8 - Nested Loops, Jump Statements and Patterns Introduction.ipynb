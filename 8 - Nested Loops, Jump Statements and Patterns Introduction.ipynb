{
 "cells": [
  {
   "cell_type": "code",
   "execution_count": 1,
   "id": "987c0b31",
   "metadata": {},
   "outputs": [
    {
     "name": "stdout",
     "output_type": "stream",
     "text": [
      "0\n",
      "1\n",
      "2\n",
      "3\n",
      "4\n"
     ]
    }
   ],
   "source": [
    "for i in range(5):\n",
    "    if i == 3:\n",
    "        pass\n",
    "    \n",
    "    print(i)"
   ]
  },
  {
   "cell_type": "code",
   "execution_count": 3,
   "id": "87bcbaad",
   "metadata": {},
   "outputs": [],
   "source": [
    "if 45 > 56:\n",
    "    pass # use pass as a placeholder"
   ]
  },
  {
   "cell_type": "code",
   "execution_count": 6,
   "id": "04931e64",
   "metadata": {},
   "outputs": [
    {
     "name": "stdout",
     "output_type": "stream",
     "text": [
      "random\n",
      "something\n",
      "0\n",
      "random\n",
      "something\n",
      "1\n",
      "random\n",
      "something\n",
      "2\n",
      "random\n",
      "something\n",
      "random\n",
      "something\n",
      "4\n"
     ]
    }
   ],
   "source": [
    "for i in range(5):\n",
    "    print(\"random\")\n",
    "    print(\"something\")\n",
    "\n",
    "    if i == 3:\n",
    "        continue\n",
    "        \n",
    "    print(i)"
   ]
  },
  {
   "cell_type": "code",
   "execution_count": 7,
   "id": "ecf2278d",
   "metadata": {},
   "outputs": [
    {
     "name": "stdout",
     "output_type": "stream",
     "text": [
      "0\n",
      "1\n",
      "2\n"
     ]
    }
   ],
   "source": [
    "for i in range(5):\n",
    "    if i == 3:\n",
    "        break\n",
    "        \n",
    "    print(i)"
   ]
  },
  {
   "cell_type": "code",
   "execution_count": 8,
   "id": "1e62e4c7",
   "metadata": {},
   "outputs": [
    {
     "data": {
      "text/plain": [
       "'\\nQuestion 1 - \\nWrite a loop to print the following numbers -> 1,4,7,10,13,16\\n'"
      ]
     },
     "execution_count": 8,
     "metadata": {},
     "output_type": "execute_result"
    }
   ],
   "source": [
    "'''\n",
    "Question 1 - \n",
    "Write a loop to print the following numbers -> 1,4,7,10,13,16\n",
    "'''"
   ]
  },
  {
   "cell_type": "code",
   "execution_count": 9,
   "id": "e6d70065",
   "metadata": {},
   "outputs": [
    {
     "name": "stdout",
     "output_type": "stream",
     "text": [
      "1, 4, 7, 10, 13, 16, "
     ]
    }
   ],
   "source": [
    "for i in range(1,17,3):\n",
    "    print(i, end = \", \")"
   ]
  },
  {
   "cell_type": "code",
   "execution_count": 10,
   "id": "b07a2023",
   "metadata": {},
   "outputs": [
    {
     "name": "stdout",
     "output_type": "stream",
     "text": [
      "1, 4, 7, 10, 13, 16"
     ]
    }
   ],
   "source": [
    "for i in range(1,17,3):\n",
    "    if i == 16:\n",
    "        print(i, end = \"\")\n",
    "    else:\n",
    "        print(i, end = \", \")"
   ]
  },
  {
   "cell_type": "code",
   "execution_count": 11,
   "id": "7ff7a585",
   "metadata": {},
   "outputs": [
    {
     "data": {
      "text/plain": [
       "'\\nQuestion 2 - \\nWrite a loop to print the following numbers ->\\n1,1,3,7,13,21,31,43\\n'"
      ]
     },
     "execution_count": 11,
     "metadata": {},
     "output_type": "execute_result"
    }
   ],
   "source": [
    "'''\n",
    "Question 2 - \n",
    "Write a loop to print the following numbers ->\n",
    "1,1,3,7,13,21,31,43\n",
    "'''"
   ]
  },
  {
   "cell_type": "code",
   "execution_count": 12,
   "id": "7a9653ff",
   "metadata": {},
   "outputs": [],
   "source": [
    "# Differences -> 0,2,4,6,8,10,12\n",
    "# i -> 0,1,2,3,4,5,6 -> 2*i"
   ]
  },
  {
   "cell_type": "code",
   "execution_count": 13,
   "id": "e6d001ac",
   "metadata": {},
   "outputs": [
    {
     "name": "stdout",
     "output_type": "stream",
     "text": [
      "1, 1, 3, 7, 13, 21, 31, 43, "
     ]
    }
   ],
   "source": [
    "number = 1\n",
    "i = 0\n",
    "\n",
    "while number <= 43:\n",
    "    print(number, end = \", \")\n",
    "    \n",
    "    number = number + 2*i\n",
    "    i += 1"
   ]
  },
  {
   "cell_type": "code",
   "execution_count": 14,
   "id": "78f2220a",
   "metadata": {},
   "outputs": [
    {
     "data": {
      "text/plain": [
       "'\\nn = 1\\ni = 0\\n-> 1\\n-> n = n + 2*i -> n = 1\\n-> i = i + 1 -> i = 1\\n\\nn = 1\\ni = 1\\n-> 1\\n-> n = 3\\n-> i = 2\\n'"
      ]
     },
     "execution_count": 14,
     "metadata": {},
     "output_type": "execute_result"
    }
   ],
   "source": [
    "'''\n",
    "n = 1\n",
    "i = 0\n",
    "-> 1\n",
    "-> n = n + 2*i -> n = 1\n",
    "-> i = i + 1 -> i = 1\n",
    "\n",
    "n = 1\n",
    "i = 1\n",
    "-> 1\n",
    "-> n = 3\n",
    "-> i = 2\n",
    "'''"
   ]
  },
  {
   "cell_type": "code",
   "execution_count": 15,
   "id": "c00e6e3e",
   "metadata": {},
   "outputs": [
    {
     "data": {
      "text/plain": [
       "'\\nQuestion 3 -\\nWrite a program that continuously asks the user to provide an input number.\\nThe program should stop only when the user provides 5.\\nOnce the user provides 5. The program should print the number of times an input was provided.\\nAssume that user always provides a number!\\n\\nExample ->\\n10\\n12\\n3\\n4\\n6\\n7\\n1\\n0\\n101\\n5\\nYou Provided 10 inputs!\\n'"
      ]
     },
     "execution_count": 15,
     "metadata": {},
     "output_type": "execute_result"
    }
   ],
   "source": [
    "'''\n",
    "Question 3 -\n",
    "Write a program that continuously asks the user to provide an input number.\n",
    "The program should stop only when the user provides 5.\n",
    "Once the user provides 5. The program should print the number of times an input was provided.\n",
    "Assume that user always provides a number!\n",
    "\n",
    "Example ->\n",
    "10\n",
    "12\n",
    "3\n",
    "4\n",
    "6\n",
    "7\n",
    "1\n",
    "0\n",
    "101\n",
    "5\n",
    "You Provided 10 inputs!\n",
    "'''"
   ]
  },
  {
   "cell_type": "code",
   "execution_count": 18,
   "id": "63a4c4a2",
   "metadata": {},
   "outputs": [
    {
     "name": "stdout",
     "output_type": "stream",
     "text": [
      "6\n",
      "7\n",
      "8\n",
      "90\n",
      "5\n",
      "You provided 5 inputs!\n"
     ]
    }
   ],
   "source": [
    "count = 0\n",
    "\n",
    "while True:\n",
    "    number = int(input())\n",
    "    count += 1\n",
    "    \n",
    "    if number == 5:\n",
    "        break\n",
    "        \n",
    "print(\"You provided\", count, \"inputs!\")"
   ]
  },
  {
   "cell_type": "code",
   "execution_count": 17,
   "id": "b5231294",
   "metadata": {},
   "outputs": [
    {
     "name": "stdout",
     "output_type": "stream",
     "text": [
      "6\n",
      "5\n",
      "You provided 2 inputs!\n"
     ]
    }
   ],
   "source": [
    "count = 0\n",
    "number = 0\n",
    "\n",
    "while number != 5:\n",
    "    number = int(input())\n",
    "    count += 1\n",
    "        \n",
    "print(\"You provided\", count, \"inputs!\")"
   ]
  },
  {
   "cell_type": "code",
   "execution_count": 22,
   "id": "5da18443",
   "metadata": {},
   "outputs": [
    {
     "data": {
      "text/plain": [
       "'abcabcabcabcabc'"
      ]
     },
     "execution_count": 22,
     "metadata": {},
     "output_type": "execute_result"
    }
   ],
   "source": [
    "\"abc\" * 5"
   ]
  },
  {
   "cell_type": "code",
   "execution_count": 21,
   "id": "7554e663",
   "metadata": {},
   "outputs": [
    {
     "name": "stdout",
     "output_type": "stream",
     "text": [
      "i -> 0 , j -> 0\n",
      "i -> 0 , j -> 1\n",
      "i -> 0 , j -> 2\n",
      "i -> 0 , j -> 3\n",
      "--------------------\n",
      "i -> 1 , j -> 0\n",
      "i -> 1 , j -> 1\n",
      "i -> 1 , j -> 2\n",
      "i -> 1 , j -> 3\n",
      "--------------------\n",
      "i -> 2 , j -> 0\n",
      "i -> 2 , j -> 1\n",
      "i -> 2 , j -> 2\n",
      "i -> 2 , j -> 3\n",
      "--------------------\n"
     ]
    }
   ],
   "source": [
    "for i in range(3):\n",
    "    for j in range(4):\n",
    "        print(\"i ->\", i, \", j ->\", j)\n",
    "    \n",
    "    print(\"-\"*20) # please ignore this for now"
   ]
  },
  {
   "cell_type": "code",
   "execution_count": 23,
   "id": "4218e550",
   "metadata": {},
   "outputs": [
    {
     "data": {
      "text/plain": [
       "'\\nQuestion 4 - \\nWrite a program to print NxN matrix of \"*\"\\n\\nInput - 4\\nOutput - \\n****\\n****\\n****\\n****\\n'"
      ]
     },
     "execution_count": 23,
     "metadata": {},
     "output_type": "execute_result"
    }
   ],
   "source": [
    "'''\n",
    "Question 4 - \n",
    "Write a program to print NxN matrix of \"*\"\n",
    "\n",
    "Input - 4\n",
    "Output - \n",
    "****\n",
    "****\n",
    "****\n",
    "****\n",
    "'''"
   ]
  },
  {
   "cell_type": "code",
   "execution_count": 27,
   "id": "1e201def",
   "metadata": {},
   "outputs": [
    {
     "name": "stdout",
     "output_type": "stream",
     "text": [
      "3\n",
      "***\n",
      "***\n",
      "***\n"
     ]
    }
   ],
   "source": [
    "n = int(input())\n",
    "\n",
    "for i in range(n):\n",
    "    for j in range(n):\n",
    "        print(\"*\", end = \"\")\n",
    "        \n",
    "    print()"
   ]
  },
  {
   "cell_type": "code",
   "execution_count": 38,
   "id": "7701e042",
   "metadata": {},
   "outputs": [
    {
     "name": "stdout",
     "output_type": "stream",
     "text": [
      "5\n",
      "*****\n",
      "*****\n",
      "*****\n",
      "*****\n",
      "*****\n"
     ]
    }
   ],
   "source": [
    "# Alternative approach\n",
    "n = int(input()) \n",
    "\n",
    "for i in range(n):\n",
    "    print(\"*\"*n)"
   ]
  },
  {
   "cell_type": "code",
   "execution_count": 30,
   "id": "6dad932d",
   "metadata": {},
   "outputs": [],
   "source": [
    "# A, B -> GCD(A,B) <= MIN(A,B)"
   ]
  },
  {
   "cell_type": "code",
   "execution_count": 32,
   "id": "9a4b5e5f",
   "metadata": {},
   "outputs": [
    {
     "name": "stdout",
     "output_type": "stream",
     "text": [
      "16\n",
      "24\n",
      "GCD is 8\n"
     ]
    }
   ],
   "source": [
    "A = int(input())\n",
    "B = int(input())\n",
    "\n",
    "MIN = min(A, B)\n",
    "\n",
    "for x in range(MIN, 0, -1):\n",
    "    if A % x == 0 and B % x == 0:\n",
    "        print(\"GCD is\",x)\n",
    "        break\n",
    "        \n",
    "'''\n",
    "A = 16\n",
    "B = 24\n",
    "\n",
    "MIN = 16\n",
    "\n",
    "range(MIN, 0, -1) -> 16,15,14,13,12......1\n",
    "\n",
    "x = 16 ->\n",
    "condition is False.\n",
    "\n",
    "x = 15 ->\n",
    "condition is False.\n",
    "\n",
    "x = 14 ->\n",
    "condition is False.\n",
    "\n",
    "x = 13 ->\n",
    "condition is False.\n",
    "\n",
    "x = 12 ->\n",
    "condition is False.\n",
    "\n",
    "x = 11 ->\n",
    "condition is False.\n",
    "\n",
    "x = 10 ->\n",
    "condition is False.\n",
    "\n",
    "x = 9 ->\n",
    "condition is False.\n",
    "\n",
    "x = 8 ->\n",
    "condition is True.\n",
    "print(x)\n",
    "break\n",
    "'''"
   ]
  },
  {
   "cell_type": "code",
   "execution_count": 29,
   "id": "f22f45fc",
   "metadata": {},
   "outputs": [],
   "source": [
    "# A, B -> LCM(A,B) >= MAX(A,B)"
   ]
  },
  {
   "cell_type": "code",
   "execution_count": 5,
   "id": "d2c9bc45",
   "metadata": {},
   "outputs": [
    {
     "name": "stdout",
     "output_type": "stream",
     "text": [
      "13\n",
      "31\n",
      "LCM = 403\n"
     ]
    }
   ],
   "source": [
    "A = int(input())\n",
    "B = int(input())\n",
    "\n",
    "MAX = max(A, B)\n",
    "\n",
    "for i in range(MAX, A*B + 1, MAX):\n",
    "    if i % A == 0 and i % B == 0:\n",
    "        print(\"LCM =\", i)\n",
    "        break"
   ]
  },
  {
   "cell_type": "code",
   "execution_count": 33,
   "id": "e90da90b",
   "metadata": {},
   "outputs": [
    {
     "data": {
      "text/plain": [
       "'\\nHOMEWORK QUESTIONS - \\n1. LCM\\n\\n------------------------------\\n\\n2. Print the following pattern - \\n*\\n**\\n***\\n****\\n***** \\n(INPUT = 5)\\nInput will be provided for number of rows.\\n\\n------------------------------\\n\\n3. Write a program to print a multiplication table till an input N.\\n\\nInput - 3\\n\\nOutput - \\n1 2 3 4 5 6 7 8 9 10\\n2 4 6 8 10 12 14 16 18 20\\n3 6 9 12 15 18 21 24 27 30\\n'"
      ]
     },
     "execution_count": 33,
     "metadata": {},
     "output_type": "execute_result"
    }
   ],
   "source": [
    "'''\n",
    "HOMEWORK QUESTIONS - \n",
    "1. LCM\n",
    "\n",
    "------------------------------\n",
    "\n",
    "2. Print the following pattern - \n",
    "*\n",
    "**\n",
    "***\n",
    "****\n",
    "***** \n",
    "(INPUT = 5)\n",
    "Input will be provided for number of rows.\n",
    "\n",
    "------------------------------\n",
    "\n",
    "3. Write a program to print a multiplication table till an input N.\n",
    "\n",
    "Input - 3\n",
    "\n",
    "Output - \n",
    "1 2 3 4 5 6 7 8 9 10\n",
    "2 4 6 8 10 12 14 16 18 20\n",
    "3 6 9 12 15 18 21 24 27 30\n",
    "'''"
   ]
  },
  {
   "cell_type": "code",
   "execution_count": 4,
   "id": "fcd91981",
   "metadata": {},
   "outputs": [
    {
     "name": "stdout",
     "output_type": "stream",
     "text": [
      "5\n",
      "*\n",
      "**\n",
      "***\n",
      "****\n",
      "*****\n"
     ]
    }
   ],
   "source": [
    "number = int(input())\n",
    "\n",
    "for i in range(1, number + 1):\n",
    "    print(\"*\"*i)"
   ]
  },
  {
   "cell_type": "code",
   "execution_count": 34,
   "id": "c38271aa",
   "metadata": {},
   "outputs": [
    {
     "name": "stdout",
     "output_type": "stream",
     "text": [
      "abc\n"
     ]
    }
   ],
   "source": [
    "print(\"abc\") # end = \"\\n\""
   ]
  },
  {
   "cell_type": "code",
   "execution_count": 36,
   "id": "b111509c",
   "metadata": {},
   "outputs": [
    {
     "name": "stdout",
     "output_type": "stream",
     "text": [
      "\n",
      "\n",
      "abc\n"
     ]
    }
   ],
   "source": [
    "print(\"\\n\")\n",
    "print(\"abc\")"
   ]
  },
  {
   "cell_type": "code",
   "execution_count": 6,
   "id": "9e5fcf0d",
   "metadata": {},
   "outputs": [
    {
     "data": {
      "text/plain": [
       "5"
      ]
     },
     "execution_count": 6,
     "metadata": {},
     "output_type": "execute_result"
    }
   ],
   "source": [
    "12345 % 10"
   ]
  },
  {
   "cell_type": "code",
   "execution_count": 7,
   "id": "63884730",
   "metadata": {},
   "outputs": [
    {
     "data": {
      "text/plain": [
       "1234"
      ]
     },
     "execution_count": 7,
     "metadata": {},
     "output_type": "execute_result"
    }
   ],
   "source": [
    "12345 // 10"
   ]
  },
  {
   "cell_type": "code",
   "execution_count": 10,
   "id": "23eecb6d",
   "metadata": {},
   "outputs": [
    {
     "name": "stdout",
     "output_type": "stream",
     "text": [
      "100\n",
      "Reverse = 1\n"
     ]
    },
    {
     "data": {
      "text/plain": [
       "'\\nresult = 0\\nnumber = 12345\\n\\nIteration 1 ->\\ndigit = 5\\nreverse = 0 * 10 + 5 = 5\\nnumber = 1234\\n\\nIteration 2 ->\\ndigit = 4\\nreverse = 5 * 10 + 4 = 54\\nnumber = 123\\n\\nIteration 3 ->\\ndigit = 3\\nreverse = 54 * 10 + 3 = 543\\nnumber = 12\\n\\n.\\n.\\n.\\n'"
      ]
     },
     "execution_count": 10,
     "metadata": {},
     "output_type": "execute_result"
    }
   ],
   "source": [
    "number = int(input())\n",
    "\n",
    "reverse = 0\n",
    "\n",
    "while number > 0:\n",
    "    digit = number % 10\n",
    "    reverse = reverse * 10 + digit\n",
    "    number = number // 10\n",
    "    \n",
    "print(\"Reverse =\", reverse)\n",
    "\n",
    "'''\n",
    "result = 0\n",
    "number = 12345\n",
    "\n",
    "Iteration 1 ->\n",
    "digit = 5\n",
    "reverse = 0 * 10 + 5 = 5\n",
    "number = 1234\n",
    "\n",
    "Iteration 2 ->\n",
    "digit = 4\n",
    "reverse = 5 * 10 + 4 = 54\n",
    "number = 123\n",
    "\n",
    "Iteration 3 ->\n",
    "digit = 3\n",
    "reverse = 54 * 10 + 3 = 543\n",
    "number = 12\n",
    "\n",
    ".\n",
    ".\n",
    ".\n",
    "'''"
   ]
  },
  {
   "cell_type": "code",
   "execution_count": null,
   "id": "26450afc",
   "metadata": {},
   "outputs": [],
   "source": []
  }
 ],
 "metadata": {
  "kernelspec": {
   "display_name": "Python 3 (ipykernel)",
   "language": "python",
   "name": "python3"
  },
  "language_info": {
   "codemirror_mode": {
    "name": "ipython",
    "version": 3
   },
   "file_extension": ".py",
   "mimetype": "text/x-python",
   "name": "python",
   "nbconvert_exporter": "python",
   "pygments_lexer": "ipython3",
   "version": "3.9.5"
  }
 },
 "nbformat": 4,
 "nbformat_minor": 5
}
